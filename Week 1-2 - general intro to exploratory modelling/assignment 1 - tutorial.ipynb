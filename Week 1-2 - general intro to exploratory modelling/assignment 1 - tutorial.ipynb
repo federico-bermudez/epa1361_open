{
 "cells": [
  {
   "cell_type": "markdown",
   "metadata": {},
   "source": [
    "## 1. Tutorial: Introduction to the SIR Model and the Workbench\n",
    "Learn the basics of the SIR model, connect it to the workbench, run simulations, and visualize the results to understand the impact of uncertain parameters.\n",
    "\n",
    "### Overview of this notebook\n",
    "- Introduction to the SIR model:\n",
    "  - Learn the basic principles of the SIR model for disease spread.\n",
    "  - Understand the three groups in the model and the role of parameters β and γ.\n",
    "- Connecting the SIR model with the workbench:\n",
    "  - Learn how to connect a Python-based model to the workbench.\n",
    "  - Understand how to specify uncertain parameters and outcomes of interest.\n",
    "- Running the model with the workbench:\n",
    "  - Learn how to run the connected model using the workbench's evaluator and perform_experiments method.\n",
    "  - Explore the concept of scenarios and the default sampling method used by the workbench.\n",
    "- Visualizing the results:\n",
    "  - Get introduced to visualization tools provided by the workbench for time series data.\n",
    "  - Investigate the effects of uncertain parameters on the outcomes and gain insights from the visualizations.\n"
   ]
  },
  {
   "cell_type": "markdown",
   "metadata": {},
   "source": [
    "### SIR model\n",
    "A very basic model for the spread of a dissease is the Succeptible, Infected, Recovered (SIR) model. This model splits a population into three groups.\n",
    "\n",
    "1. $S(t)$ - the part of the population that is succeptible but not yet infected with the disease\n",
    "2. $I(t)$ - the part of the population that is infected with the disease\n",
    "3. $R(t)$ - the part of the population that has recovered from the disease. \n",
    "\n",
    "The SIR model uses a system of ODE's to describe how these three groups change over time. In it's most simple form, the model uses only the contact ration $\\beta$ and the mean recovery rate $\\gamma$ for this.\n",
    "\n",
    "Below is a python implementation of this simple model, taken from https://scipython.com/book/chapter-8-scipy/additional-examples/the-sir-epidemic-model/. \n"
   ]
  },
  {
   "cell_type": "code",
   "execution_count": 1,
   "metadata": {
    "ExecuteTime": {
     "end_time": "2023-04-07T11:07:15.133418Z",
     "start_time": "2023-04-07T11:07:15.101837Z"
    }
   },
   "outputs": [],
   "source": [
    "import numpy as np\n",
    "import matplotlib.pyplot as plt\n",
    "import seaborn as sns\n",
    "\n",
    "from scipy.integrate import odeint"
   ]
  },
  {
   "cell_type": "code",
   "execution_count": 2,
   "metadata": {
    "ExecuteTime": {
     "end_time": "2023-04-07T11:06:22.289590Z",
     "start_time": "2023-04-07T11:06:22.132709Z"
    }
   },
   "outputs": [],
   "source": [
    "# The SIR model differential equations.\n",
    "def deriv(y, t, N, beta, gamma):\n",
    "    S, I, R = y\n",
    "    dSdt = -beta * S * I / N\n",
    "    dIdt = beta * S * I / N - gamma * I\n",
    "    dRdt = gamma * I\n",
    "    return dSdt, dIdt, dRdt\n",
    "\n",
    "def SIR_model(beta=0.2, gamma=0.1, I0=1, R0=0, \n",
    "              N=1000, t=np.linspace(0, 160, 160)):\n",
    "    '''\n",
    "    \n",
    "    Parameters\n",
    "    ----------\n",
    "    beta : float\n",
    "           contact rate\n",
    "    gamma : float\n",
    "            recovery rate\n",
    "    I0 : int\n",
    "         initial value infected\n",
    "    R0 : int\n",
    "         initial value recovered\n",
    "    N : int\n",
    "        population size\n",
    "    t : ndarray\n",
    "        points in time\n",
    "    \n",
    "    '''\n",
    "    S0 = N - I0 - R0\n",
    "    \n",
    "    # Initial conditions vector\n",
    "    y0 = S0, I0, R0\n",
    "    # Integrate the SIR equations over the time grid, t.\n",
    "    ret = odeint(deriv, y0, t, args=(N, beta, gamma))\n",
    "    S, I, R = ret.T\n",
    "    \n",
    "    return {'S':S, 'I':I, 'R':R}"
   ]
  },
  {
   "cell_type": "markdown",
   "metadata": {},
   "source": [
    "### Connecting the SIR model with the workbench\n",
    "\n",
    "Let's connect this simple model to the workbench. We make the following assumptions\n",
    "1. $\\beta$ and $\\gamma$ are uncertain. We assume that $\\beta$ is somewhere between 0.05 and 0.3, while $\\gamma$ is somewhere between 0.01, and 0.15.\n",
    "2. The outcomes of interest are $S(t)$, $I(t)$, and $R(t)$ over time.\n",
    "\n",
    "To connect the model to the workbench, we need to do at least 3 things:\n",
    "1. **Instantiate a model class**; the workbench comes with a variety of model classes for making it easy to connect with existing simulation packages such as Vensim, PySD, Simio, or Netlogo. Since we have a model implemented in Python, we can use the most basic Model class.\n",
    "2. **Specify the uncertain parameters** (and/or decision levers); Note below how the name of the parameters matched the name of the keyword arguments of the SIR_model function. The workbench makes a distinction between RealParameters, IntegerParameters, BinaryParameters, and CategoricalParameters. For this example, our parameters $\\beta$ and $\\gamma$ have a continuous range so we use RealParameters \n",
    "3. **Specify the outcomes of interest**; the workbench makes a distinction between TimeSeriesOutcomes and ScalarOutcomes. $S$, $I$, and $R$ are time series, so we use TimeSeriesOutcomes"
   ]
  },
  {
   "cell_type": "code",
   "execution_count": 3,
   "metadata": {
    "ExecuteTime": {
     "end_time": "2023-04-07T11:06:23.490082Z",
     "start_time": "2023-04-07T11:06:22.148508Z"
    }
   },
   "outputs": [
    {
     "name": "stderr",
     "output_type": "stream",
     "text": [
      "C:\\Users\\Federico\\Anaconda3\\envs\\MBDM\\Lib\\site-packages\\ema_workbench\\em_framework\\evaluators.py:58: UserWarning: ipyparallel not installed - IpyparalleEvaluator not available\n",
      "  warnings.warn(\"ipyparallel not installed - IpyparalleEvaluator not available\")\n"
     ]
    }
   ],
   "source": [
    "from ema_workbench import Model, RealParameter, TimeSeriesOutcome\n",
    "\n",
    "model = Model('SIR', function=SIR_model)\n",
    "\n",
    "model.uncertainties = [RealParameter('beta', 0.05, 0.3),\n",
    "                       RealParameter('gamma', 0.01, 0.15)]\n",
    "\n",
    "model.outcomes = [TimeSeriesOutcome('S'),\n",
    "                  TimeSeriesOutcome('I'),\n",
    "                  TimeSeriesOutcome('R')]"
   ]
  },
  {
   "cell_type": "markdown",
   "metadata": {},
   "source": [
    "The code above is a minimum working example of how to connect a model, the SIR_model function in this case, to the ema workbech. Even very large and complex cases will mimic this structure. \n",
    "\n",
    "### Running the model with the workbench\n",
    "\n",
    "The next step is to run the model. For this we use an evaluator and the perform_experiments method. The workbench by default will use a latin hypercupe sampler to generate points in the parameter space defined by the uncertainties and/or levers. The uncertainties jointly span the uncertainty space. The levers (not used in this example) span the lever space. A point in uncertainty space is a scenario. A point in lever space is a policy. The combination of a scenario and a policy (where either might be None) is an experiment. \n",
    "\n",
    "A few remarks on this\n",
    "1. The workbench assumes uniform distributions. During the class it will be explained in more detail why we make this assumption and what consequences follow from this.\n",
    "2. The workbench comes with a wide range of alternative samplers, some of which we will use later in the course\n",
    "3. The workbench offers support for taking advantage of the fact that many modern computers have multiple cores. See assingment 2 for this week for more on this. For now, we use a SequentialEvaluator\n",
    "4. The workbench treats sampling in the uncertainty space and the lever space separately. It will always execute a full factorial over the combination of the lever space and the uncertainty space.\n",
    "\n",
    "Let's run the model for 100 scenarios."
   ]
  },
  {
   "cell_type": "code",
   "execution_count": 4,
   "metadata": {
    "ExecuteTime": {
     "end_time": "2023-04-07T11:06:23.622168Z",
     "start_time": "2023-04-07T11:06:23.494096Z"
    }
   },
   "outputs": [
    {
     "name": "stderr",
     "output_type": "stream",
     "text": [
      "100%|███████████████████████████████████████| 100/100 [00:00<00:00, 381.94it/s]\n"
     ]
    }
   ],
   "source": [
    "from ema_workbench import SequentialEvaluator\n",
    "\n",
    "with SequentialEvaluator(model) as evaluator:\n",
    "    experiments, outcomes = evaluator.perform_experiments(scenarios=100)"
   ]
  },
  {
   "cell_type": "code",
   "execution_count": 5,
   "metadata": {
    "ExecuteTime": {
     "end_time": "2023-04-07T11:06:23.651609Z",
     "start_time": "2023-04-07T11:06:23.614751Z"
    }
   },
   "outputs": [
    {
     "data": {
      "text/html": [
       "<div>\n",
       "<style scoped>\n",
       "    .dataframe tbody tr th:only-of-type {\n",
       "        vertical-align: middle;\n",
       "    }\n",
       "\n",
       "    .dataframe tbody tr th {\n",
       "        vertical-align: top;\n",
       "    }\n",
       "\n",
       "    .dataframe thead th {\n",
       "        text-align: right;\n",
       "    }\n",
       "</style>\n",
       "<table border=\"1\" class=\"dataframe\">\n",
       "  <thead>\n",
       "    <tr style=\"text-align: right;\">\n",
       "      <th></th>\n",
       "      <th>beta</th>\n",
       "      <th>gamma</th>\n",
       "      <th>scenario</th>\n",
       "      <th>policy</th>\n",
       "      <th>model</th>\n",
       "    </tr>\n",
       "  </thead>\n",
       "  <tbody>\n",
       "    <tr>\n",
       "      <th>0</th>\n",
       "      <td>0.079536</td>\n",
       "      <td>0.075565</td>\n",
       "      <td>0</td>\n",
       "      <td>None</td>\n",
       "      <td>SIR</td>\n",
       "    </tr>\n",
       "    <tr>\n",
       "      <th>1</th>\n",
       "      <td>0.219510</td>\n",
       "      <td>0.067810</td>\n",
       "      <td>1</td>\n",
       "      <td>None</td>\n",
       "      <td>SIR</td>\n",
       "    </tr>\n",
       "    <tr>\n",
       "      <th>2</th>\n",
       "      <td>0.195213</td>\n",
       "      <td>0.119889</td>\n",
       "      <td>2</td>\n",
       "      <td>None</td>\n",
       "      <td>SIR</td>\n",
       "    </tr>\n",
       "    <tr>\n",
       "      <th>3</th>\n",
       "      <td>0.063927</td>\n",
       "      <td>0.021824</td>\n",
       "      <td>3</td>\n",
       "      <td>None</td>\n",
       "      <td>SIR</td>\n",
       "    </tr>\n",
       "    <tr>\n",
       "      <th>4</th>\n",
       "      <td>0.261819</td>\n",
       "      <td>0.139111</td>\n",
       "      <td>4</td>\n",
       "      <td>None</td>\n",
       "      <td>SIR</td>\n",
       "    </tr>\n",
       "    <tr>\n",
       "      <th>...</th>\n",
       "      <td>...</td>\n",
       "      <td>...</td>\n",
       "      <td>...</td>\n",
       "      <td>...</td>\n",
       "      <td>...</td>\n",
       "    </tr>\n",
       "    <tr>\n",
       "      <th>95</th>\n",
       "      <td>0.213600</td>\n",
       "      <td>0.121009</td>\n",
       "      <td>95</td>\n",
       "      <td>None</td>\n",
       "      <td>SIR</td>\n",
       "    </tr>\n",
       "    <tr>\n",
       "      <th>96</th>\n",
       "      <td>0.211470</td>\n",
       "      <td>0.069403</td>\n",
       "      <td>96</td>\n",
       "      <td>None</td>\n",
       "      <td>SIR</td>\n",
       "    </tr>\n",
       "    <tr>\n",
       "      <th>97</th>\n",
       "      <td>0.235299</td>\n",
       "      <td>0.084621</td>\n",
       "      <td>97</td>\n",
       "      <td>None</td>\n",
       "      <td>SIR</td>\n",
       "    </tr>\n",
       "    <tr>\n",
       "      <th>98</th>\n",
       "      <td>0.241374</td>\n",
       "      <td>0.108398</td>\n",
       "      <td>98</td>\n",
       "      <td>None</td>\n",
       "      <td>SIR</td>\n",
       "    </tr>\n",
       "    <tr>\n",
       "      <th>99</th>\n",
       "      <td>0.131470</td>\n",
       "      <td>0.083042</td>\n",
       "      <td>99</td>\n",
       "      <td>None</td>\n",
       "      <td>SIR</td>\n",
       "    </tr>\n",
       "  </tbody>\n",
       "</table>\n",
       "<p>100 rows × 5 columns</p>\n",
       "</div>"
      ],
      "text/plain": [
       "        beta     gamma scenario policy model\n",
       "0   0.079536  0.075565        0   None   SIR\n",
       "1   0.219510  0.067810        1   None   SIR\n",
       "2   0.195213  0.119889        2   None   SIR\n",
       "3   0.063927  0.021824        3   None   SIR\n",
       "4   0.261819  0.139111        4   None   SIR\n",
       "..       ...       ...      ...    ...   ...\n",
       "95  0.213600  0.121009       95   None   SIR\n",
       "96  0.211470  0.069403       96   None   SIR\n",
       "97  0.235299  0.084621       97   None   SIR\n",
       "98  0.241374  0.108398       98   None   SIR\n",
       "99  0.131470  0.083042       99   None   SIR\n",
       "\n",
       "[100 rows x 5 columns]"
      ]
     },
     "execution_count": 5,
     "metadata": {},
     "output_type": "execute_result"
    }
   ],
   "source": [
    "experiments"
   ]
  },
  {
   "cell_type": "markdown",
   "metadata": {},
   "source": [
    "### Visualizing the results\n",
    "\n",
    "Now that we have run the model 100 times, we can visualize the results. The workbench comes with a range of analysis functions including some convenience functions for visualizing time series data. For now, we use the function `ema_workbench.analysis.plotting.lines`. If you want to get a sense of what other analyses are available, please read the online documentation at https://emaworkbench.readthedocs.io. Over the coming weeks, we will systematically go through many of the analyses that are available."
   ]
  },
  {
   "cell_type": "code",
   "execution_count": 7,
   "metadata": {
    "ExecuteTime": {
     "end_time": "2023-04-07T11:06:26.000111Z",
     "start_time": "2023-04-07T11:06:23.638223Z"
    }
   },
   "outputs": [
    {
     "ename": "ImportError",
     "evalue": "No module named 'sklearn.__check_build._check_build'\n___________________________________________________________________________\nContents of C:\\Users\\Federico\\Anaconda3\\envs\\MBDM\\Lib\\site-packages\\sklearn\\__check_build:\n_check_build.cp310-win_amd64.pyd__init__.py               __pycache__\n___________________________________________________________________________\nIt seems that scikit-learn has not been built correctly.\n\nIf you have installed scikit-learn from source, please do not forget\nto build the package before using it: run `python setup.py install` or\n`make` in the source directory.\n\nIf you have used an installer, please check that it is suited for your\nPython version, your operating system and your platform.",
     "output_type": "error",
     "traceback": [
      "\u001b[1;31m---------------------------------------------------------------------------\u001b[0m",
      "\u001b[1;31mModuleNotFoundError\u001b[0m                       Traceback (most recent call last)",
      "File \u001b[1;32m~\\Anaconda3\\envs\\MBDM\\Lib\\site-packages\\sklearn\\__check_build\\__init__.py:48\u001b[0m\n\u001b[0;32m     47\u001b[0m \u001b[38;5;28;01mtry\u001b[39;00m:\n\u001b[1;32m---> 48\u001b[0m     \u001b[38;5;28;01mfrom\u001b[39;00m \u001b[38;5;21;01m.\u001b[39;00m\u001b[38;5;21;01m_check_build\u001b[39;00m \u001b[38;5;28;01mimport\u001b[39;00m check_build  \u001b[38;5;66;03m# noqa\u001b[39;00m\n\u001b[0;32m     49\u001b[0m \u001b[38;5;28;01mexcept\u001b[39;00m \u001b[38;5;167;01mImportError\u001b[39;00m \u001b[38;5;28;01mas\u001b[39;00m e:\n",
      "\u001b[1;31mModuleNotFoundError\u001b[0m: No module named 'sklearn.__check_build._check_build'",
      "\nDuring handling of the above exception, another exception occurred:\n",
      "\u001b[1;31mImportError\u001b[0m                               Traceback (most recent call last)",
      "Cell \u001b[1;32mIn[7], line 1\u001b[0m\n\u001b[1;32m----> 1\u001b[0m \u001b[38;5;28;01mfrom\u001b[39;00m \u001b[38;5;21;01mema_workbench\u001b[39;00m\u001b[38;5;21;01m.\u001b[39;00m\u001b[38;5;21;01manalysis\u001b[39;00m \u001b[38;5;28;01mimport\u001b[39;00m plotting, plotting_util\n\u001b[0;32m      3\u001b[0m \u001b[38;5;28;01mfor\u001b[39;00m outcome \u001b[38;5;129;01min\u001b[39;00m outcomes\u001b[38;5;241m.\u001b[39mkeys():\n\u001b[0;32m      4\u001b[0m     plotting\u001b[38;5;241m.\u001b[39mlines(experiments, outcomes, outcomes_to_show\u001b[38;5;241m=\u001b[39moutcome,\n\u001b[0;32m      5\u001b[0m                    density\u001b[38;5;241m=\u001b[39mplotting_util\u001b[38;5;241m.\u001b[39mDensity\u001b[38;5;241m.\u001b[39mHIST)\n",
      "File \u001b[1;32m~\\Anaconda3\\envs\\MBDM\\Lib\\site-packages\\ema_workbench\\analysis\\__init__.py:7\u001b[0m\n\u001b[0;32m      5\u001b[0m \u001b[38;5;28;01mfrom\u001b[39;00m \u001b[38;5;21;01m.\u001b[39;00m \u001b[38;5;28;01mimport\u001b[39;00m pairs_plotting\n\u001b[0;32m      6\u001b[0m \u001b[38;5;28;01mfrom\u001b[39;00m \u001b[38;5;21;01m.\u001b[39;00m\u001b[38;5;21;01mb_and_w_plotting\u001b[39;00m \u001b[38;5;28;01mimport\u001b[39;00m set_fig_to_bw\n\u001b[1;32m----> 7\u001b[0m \u001b[38;5;28;01mfrom\u001b[39;00m \u001b[38;5;21;01m.\u001b[39;00m\u001b[38;5;21;01mcart\u001b[39;00m \u001b[38;5;28;01mimport\u001b[39;00m setup_cart, CART\n\u001b[0;32m      8\u001b[0m \u001b[38;5;28;01mfrom\u001b[39;00m \u001b[38;5;21;01m.\u001b[39;00m\u001b[38;5;21;01mfeature_scoring\u001b[39;00m \u001b[38;5;28;01mimport\u001b[39;00m (\n\u001b[0;32m      9\u001b[0m     get_ex_feature_scores,\n\u001b[0;32m     10\u001b[0m     get_feature_scores_all,\n\u001b[0;32m     11\u001b[0m     get_rf_feature_scores,\n\u001b[0;32m     12\u001b[0m     get_univariate_feature_scores,\n\u001b[0;32m     13\u001b[0m )\n\u001b[0;32m     14\u001b[0m \u001b[38;5;28;01mfrom\u001b[39;00m \u001b[38;5;21;01m.\u001b[39;00m\u001b[38;5;21;01mlogistic_regression\u001b[39;00m \u001b[38;5;28;01mimport\u001b[39;00m Logit\n",
      "File \u001b[1;32m~\\Anaconda3\\envs\\MBDM\\Lib\\site-packages\\ema_workbench\\analysis\\cart.py:14\u001b[0m\n\u001b[0;32m     12\u001b[0m \u001b[38;5;28;01mimport\u001b[39;00m \u001b[38;5;21;01mnumpy\u001b[39;00m \u001b[38;5;28;01mas\u001b[39;00m \u001b[38;5;21;01mnp\u001b[39;00m\n\u001b[0;32m     13\u001b[0m \u001b[38;5;28;01mimport\u001b[39;00m \u001b[38;5;21;01mpandas\u001b[39;00m \u001b[38;5;28;01mas\u001b[39;00m \u001b[38;5;21;01mpd\u001b[39;00m\n\u001b[1;32m---> 14\u001b[0m \u001b[38;5;28;01mfrom\u001b[39;00m \u001b[38;5;21;01msklearn\u001b[39;00m \u001b[38;5;28;01mimport\u001b[39;00m tree\n\u001b[0;32m     16\u001b[0m \u001b[38;5;28;01mfrom\u001b[39;00m \u001b[38;5;21;01mema_workbench\u001b[39;00m\u001b[38;5;21;01m.\u001b[39;00m\u001b[38;5;21;01mutil\u001b[39;00m\u001b[38;5;21;01m.\u001b[39;00m\u001b[38;5;21;01mema_exceptions\u001b[39;00m \u001b[38;5;28;01mimport\u001b[39;00m EMAError\n\u001b[0;32m     17\u001b[0m \u001b[38;5;28;01mfrom\u001b[39;00m \u001b[38;5;21;01m.\u001b[39;00m \u001b[38;5;28;01mimport\u001b[39;00m scenario_discovery_util \u001b[38;5;28;01mas\u001b[39;00m sdutil\n",
      "File \u001b[1;32m~\\Anaconda3\\envs\\MBDM\\Lib\\site-packages\\sklearn\\__init__.py:81\u001b[0m\n\u001b[0;32m     70\u001b[0m     \u001b[38;5;66;03m# We are not importing the rest of scikit-learn during the build\u001b[39;00m\n\u001b[0;32m     71\u001b[0m     \u001b[38;5;66;03m# process, as it may not be compiled yet\u001b[39;00m\n\u001b[0;32m     72\u001b[0m \u001b[38;5;28;01melse\u001b[39;00m:\n\u001b[1;32m   (...)\u001b[0m\n\u001b[0;32m     78\u001b[0m     \u001b[38;5;66;03m# later is linked to the OpenMP runtime to make it possible to introspect\u001b[39;00m\n\u001b[0;32m     79\u001b[0m     \u001b[38;5;66;03m# it and importing it first would fail if the OpenMP dll cannot be found.\u001b[39;00m\n\u001b[0;32m     80\u001b[0m     \u001b[38;5;28;01mfrom\u001b[39;00m \u001b[38;5;21;01m.\u001b[39;00m \u001b[38;5;28;01mimport\u001b[39;00m _distributor_init  \u001b[38;5;66;03m# noqa: F401\u001b[39;00m\n\u001b[1;32m---> 81\u001b[0m     \u001b[38;5;28;01mfrom\u001b[39;00m \u001b[38;5;21;01m.\u001b[39;00m \u001b[38;5;28;01mimport\u001b[39;00m __check_build  \u001b[38;5;66;03m# noqa: F401\u001b[39;00m\n\u001b[0;32m     82\u001b[0m     \u001b[38;5;28;01mfrom\u001b[39;00m \u001b[38;5;21;01m.\u001b[39;00m\u001b[38;5;21;01mbase\u001b[39;00m \u001b[38;5;28;01mimport\u001b[39;00m clone\n\u001b[0;32m     83\u001b[0m     \u001b[38;5;28;01mfrom\u001b[39;00m \u001b[38;5;21;01m.\u001b[39;00m\u001b[38;5;21;01mutils\u001b[39;00m\u001b[38;5;21;01m.\u001b[39;00m\u001b[38;5;21;01m_show_versions\u001b[39;00m \u001b[38;5;28;01mimport\u001b[39;00m show_versions\n",
      "File \u001b[1;32m~\\Anaconda3\\envs\\MBDM\\Lib\\site-packages\\sklearn\\__check_build\\__init__.py:50\u001b[0m\n\u001b[0;32m     48\u001b[0m     \u001b[38;5;28;01mfrom\u001b[39;00m \u001b[38;5;21;01m.\u001b[39;00m\u001b[38;5;21;01m_check_build\u001b[39;00m \u001b[38;5;28;01mimport\u001b[39;00m check_build  \u001b[38;5;66;03m# noqa\u001b[39;00m\n\u001b[0;32m     49\u001b[0m \u001b[38;5;28;01mexcept\u001b[39;00m \u001b[38;5;167;01mImportError\u001b[39;00m \u001b[38;5;28;01mas\u001b[39;00m e:\n\u001b[1;32m---> 50\u001b[0m     raise_build_error(e)\n",
      "File \u001b[1;32m~\\Anaconda3\\envs\\MBDM\\Lib\\site-packages\\sklearn\\__check_build\\__init__.py:31\u001b[0m, in \u001b[0;36mraise_build_error\u001b[1;34m(e)\u001b[0m\n\u001b[0;32m     29\u001b[0m         \u001b[38;5;28;01melse\u001b[39;00m:\n\u001b[0;32m     30\u001b[0m             dir_content\u001b[38;5;241m.\u001b[39mappend(filename \u001b[38;5;241m+\u001b[39m \u001b[38;5;124m\"\u001b[39m\u001b[38;5;130;01m\\n\u001b[39;00m\u001b[38;5;124m\"\u001b[39m)\n\u001b[1;32m---> 31\u001b[0m     \u001b[38;5;28;01mraise\u001b[39;00m \u001b[38;5;167;01mImportError\u001b[39;00m(\n\u001b[0;32m     32\u001b[0m         \u001b[38;5;124;03m\"\"\"%s\u001b[39;00m\n\u001b[0;32m     33\u001b[0m \u001b[38;5;124;03m___________________________________________________________________________\u001b[39;00m\n\u001b[0;32m     34\u001b[0m \u001b[38;5;124;03mContents of %s:\u001b[39;00m\n\u001b[0;32m     35\u001b[0m \u001b[38;5;124;03m%s\u001b[39;00m\n\u001b[0;32m     36\u001b[0m \u001b[38;5;124;03m___________________________________________________________________________\u001b[39;00m\n\u001b[0;32m     37\u001b[0m \u001b[38;5;124;03mIt seems that scikit-learn has not been built correctly.\u001b[39;00m\n\u001b[0;32m     38\u001b[0m \n\u001b[0;32m     39\u001b[0m \u001b[38;5;124;03mIf you have installed scikit-learn from source, please do not forget\u001b[39;00m\n\u001b[0;32m     40\u001b[0m \u001b[38;5;124;03mto build the package before using it: run `python setup.py install` or\u001b[39;00m\n\u001b[0;32m     41\u001b[0m \u001b[38;5;124;03m`make` in the source directory.\u001b[39;00m\n\u001b[0;32m     42\u001b[0m \u001b[38;5;124;03m%s\"\"\"\u001b[39;00m\n\u001b[0;32m     43\u001b[0m         \u001b[38;5;241m%\u001b[39m (e, local_dir, \u001b[38;5;124m\"\u001b[39m\u001b[38;5;124m\"\u001b[39m\u001b[38;5;241m.\u001b[39mjoin(dir_content)\u001b[38;5;241m.\u001b[39mstrip(), msg)\n\u001b[0;32m     44\u001b[0m     )\n",
      "\u001b[1;31mImportError\u001b[0m: No module named 'sklearn.__check_build._check_build'\n___________________________________________________________________________\nContents of C:\\Users\\Federico\\Anaconda3\\envs\\MBDM\\Lib\\site-packages\\sklearn\\__check_build:\n_check_build.cp310-win_amd64.pyd__init__.py               __pycache__\n___________________________________________________________________________\nIt seems that scikit-learn has not been built correctly.\n\nIf you have installed scikit-learn from source, please do not forget\nto build the package before using it: run `python setup.py install` or\n`make` in the source directory.\n\nIf you have used an installer, please check that it is suited for your\nPython version, your operating system and your platform."
     ]
    }
   ],
   "source": [
    "from ema_workbench.analysis import plotting, plotting_util\n",
    "\n",
    "for outcome in outcomes.keys():\n",
    "    plotting.lines(experiments, outcomes, outcomes_to_show=outcome,\n",
    "                   density=plotting_util.Density.HIST)\n",
    "plt.show()"
   ]
  },
  {
   "cell_type": "markdown",
   "metadata": {},
   "source": [
    "In each plot on the left for all hunderd runs the susceptible, infected, and recovered population are plotted. On the right of each plot, a histogram of these values is shown."
   ]
  },
  {
   "cell_type": "markdown",
   "metadata": {},
   "source": [
    "#### Effect uncertainty on outbreak\n",
    "A key element in exploratory modeling is to try to understand how points in the uncertainty space map relate to outcomes or types of outcomes. Since in this example, we only have 2 uncertain parameters, basic visual inspection can already give a fair bit of insight. Let's try to answer the following question: how do $\\gamma$ and $\\beta$ affect the severity and timing of the outbreak? To answer this we need to do the following:\n",
    "1. get the maximum value over time for $I$ for each scenario (use np.max)\n",
    "2. Establish the point in time of this maximum (use np.argmax)\n",
    "3. visualize how 1 and 2 are affected by $\\beta$ and $\\gamma$ **jointly** (use scatter plots with max I, and the point in time as color)\n",
    "4. How are timing and the maximum related to each other?\n"
   ]
  },
  {
   "cell_type": "code",
   "execution_count": null,
   "metadata": {
    "ExecuteTime": {
     "end_time": "2023-04-07T11:07:27.978766Z",
     "start_time": "2023-04-07T11:07:27.947200Z"
    }
   },
   "outputs": [],
   "source": [
    "# Calculate the maximum value of I\n",
    "I = outcomes['I']\n",
    "maxI = np.max(I, axis=1)\n",
    "\n",
    "# Calculate the timing of the maximum value of I\n",
    "timing = np.argmax(I, axis=1)"
   ]
  },
  {
   "cell_type": "code",
   "execution_count": null,
   "metadata": {
    "ExecuteTime": {
     "end_time": "2023-04-07T12:24:49.515988Z",
     "start_time": "2023-04-07T12:24:49.247420Z"
    }
   },
   "outputs": [],
   "source": [
    "def plot_scatter(labels=False, beta_is_gamma_line=False):\n",
    "    # Plot the relationship between beta and gamma, using max I and timing as color\n",
    "    fig, ax = plt.subplots(1,2, figsize=(12,6))\n",
    "\n",
    "    for i, hue in enumerate([maxI, timing]):\n",
    "        sc = ax[i].scatter(experiments.beta, experiments.gamma, c=hue, cmap='viridis')\n",
    "        cb = plt.colorbar(sc)\n",
    "        ax[i].set_title(f\"Relationship between beta, gamma and {['max. I', 'timing of max I'][i]}\")\n",
    "        ax[i].set_xlabel('Beta (contact rate)')\n",
    "        ax[i].set_ylabel('Gamma (recovery rate)')\n",
    "        cb.set_label(['max. infections', 'time step of max. I.'][i])\n",
    "\n",
    "        # Add labels with the hue value\n",
    "        if labels:\n",
    "            for j, (beta, gamma) in enumerate(zip(experiments.beta, experiments.gamma)):\n",
    "                ax[i].text(beta, gamma, f\"{hue[j]:.0f}\", fontsize=8)\n",
    "\n",
    "        # To the second plot, add a line with beta = gamma\n",
    "        if i == 1 and beta_is_gamma_line:\n",
    "            ax[i].plot(np.linspace(0.05,0.15), np.linspace(0.05,0.15), color='red')\n",
    "    plt.show()\n",
    "\n",
    "plot_scatter()"
   ]
  },
  {
   "cell_type": "markdown",
   "metadata": {},
   "source": [
    "Notable on the left plot is that a higher beta value and a lower gamma value are associated with a higher maximum value of I. This is intuitive, since a higher beta values means more contact between individuals, and a lower gamma value means that individuals are less likely to recover.\n",
    "\n",
    "On the right plot, there is more interesting behaviour. With a low contact rate and high recovery rate, the highest number of infected people is at the first time step. Only the initially infected person is infected, and infects no other persons. After that, as the contact rate increases and recovery rate decreases, the time of the maximum value of I shifts from the last time step (meaning likely no peak is reached during the simulation) to shorter and shorter time steps.\n",
    "\n",
    "This becomes even clearer if we add labels with the numbers, and a red line with beta = gamma to the second plot. If the recovery rate is higher than the infection rate, the disease will likely die out.\n",
    "\n"
   ]
  },
  {
   "cell_type": "code",
   "execution_count": null,
   "metadata": {
    "ExecuteTime": {
     "end_time": "2023-04-07T12:24:54.198012Z",
     "start_time": "2023-04-07T12:24:53.803648Z"
    }
   },
   "outputs": [],
   "source": [
    "plot_scatter(labels=True, beta_is_gamma_line=True)"
   ]
  },
  {
   "cell_type": "markdown",
   "metadata": {},
   "source": [
    "Finally, if we want to see how the timing and the maximum value of I are related to each other, we can use a scatter plot with the timing on the x-axis and the maximum value of I on the y-axis."
   ]
  },
  {
   "cell_type": "code",
   "execution_count": null,
   "metadata": {
    "ExecuteTime": {
     "end_time": "2023-04-07T12:31:26.136366Z",
     "start_time": "2023-04-07T12:31:26.026549Z"
    }
   },
   "outputs": [],
   "source": [
    "fig, ax = plt.subplots(figsize=(6,6))\n",
    "\n",
    "sc = ax.scatter(timing, maxI)\n",
    "ax.set_title('Timing and severity of outbreak')\n",
    "ax.set_xlabel('Point in time')\n",
    "ax.set_ylabel('Max. I (infected)')\n",
    "plt.show()"
   ]
  },
  {
   "cell_type": "markdown",
   "metadata": {},
   "source": [
    "Notably, there is a negative correlation between the timing of the outbreak and the number infected. A slow outbreak with a late peak has a low number of infected people, while a fast outbreak with an early peak has a high number of infected people. This is intuitive, since a slow outbreak has more time to spread, and a fast outbreak has less time to spread."
   ]
  },
  {
   "cell_type": "markdown",
   "metadata": {},
   "source": [
    "### Conclusion\n",
    "This shows an example of how to use the workbench to explore a simple model, and how to use the workbench to visualize and interpret the results.\n",
    "\n",
    "Assignment 2 and 3 will introduce two other models, which you will be able to explore yourself using the workbench.\n",
    "\n",
    "The [EMAworkbench documentation](https://emaworkbench.readthedocs.io/en/latest/) and [code itself](https://github.com/quaquel/EMAworkbench) provide a lot of information on how to use the workbench, as well as a lot of [examples](https://github.com/quaquel/EMAworkbench/tree/master/ema_workbench/examples)."
   ]
  }
 ],
 "metadata": {
  "kernelspec": {
   "display_name": "Python [conda env:MBDM]",
   "language": "python",
   "name": "conda-env-MBDM-py"
  },
  "language_info": {
   "codemirror_mode": {
    "name": "ipython",
    "version": 3
   },
   "file_extension": ".py",
   "mimetype": "text/x-python",
   "name": "python",
   "nbconvert_exporter": "python",
   "pygments_lexer": "ipython3",
   "version": "3.11.3"
  }
 },
 "nbformat": 4,
 "nbformat_minor": 4
}
